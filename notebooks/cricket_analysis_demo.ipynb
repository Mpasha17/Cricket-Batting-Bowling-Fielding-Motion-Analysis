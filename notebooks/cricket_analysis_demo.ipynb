{
 "cells": [
  {
   "cell_type": "markdown",
   "metadata": {},
   "source": [
    "# Cricket Motion Analysis Demo Notebook\n",
    "\n",
    "This notebook demonstrates the workflow of the cricket motion analysis system, including video preprocessing, pose estimation, biomechanical analysis, and visualization."
   ]
  },
  {
   "cell_type": "markdown",
   "metadata": {},
   "source": [
    "## Setup\n",
    "\n",
    "First, let's import the necessary modules and set up the environment."
   ]
  },
  {
   "cell_type": "code",
   "execution_count": null,
   "metadata": {},
   "outputs": [],
   "source": [
    "import sys\n",
    "import os\n",
    "\n",
    "# Add the project root directory to the Python path\n",
    "sys.path.append(os.path.abspath('../'))\n",
    "\n",
    "# Import project modules\n",
    "from src.preprocessing.video_processor import extract_frames, enhance_frame\n",
    "from src.pose_estimation.pose_estimator import MediaPipePoseEstimator\n",
    "from src.analysis.batting.batting_analyzer import BattingAnalyzer\n",
    "from src.analysis.bowling.bowling_analyzer import BowlingAnalyzer\n",
    "from src.analysis.fielding.fielding_analyzer import FieldingAnalyzer\n",
    "from src.visualization.visualizer import Visualizer\n",
    "from src.data_downloader import download_sample_videos\n",
    "\n",
    "# Import other libraries\n",
    "import cv2\n",
    "import numpy as np\n",
    "import matplotlib.pyplot as plt\n",
    "from IPython.display import display, HTML\n",
    "\n",
    "# Set up matplotlib for inline plotting\n",
    "%matplotlib inline"
   ]
  },
  {
   "cell_type": "markdown",
   "metadata": {},
   "source": [
    "## Download Sample Videos\n",
    "\n",
    "Let's download some sample cricket videos for analysis."
   ]
  },
  {
   "cell_type": "code",
   "execution_count": null,
   "metadata": {},
   "outputs": [],
   "source": [
    "# Download sample videos\n",
    "video_paths = download_sample_videos()\n",
    "print(f'Downloaded {len(video_paths)} sample videos.')\n",
    "\n",
    "# Select a video for analysis\n",
    "video_path = video_paths[0]  # Use the first video for this demo\n",
    "print(f'Selected video: {video_path}')"
   ]
  },
  {
   "cell_type": "markdown",
   "metadata": {},
   "source": [
    "## Video Preprocessing\n",
    "\n",
    "Now, let's preprocess the video by extracting frames and enhancing them."
   ]
  },
  {
   "cell_type": "code",
   "execution_count": null,
   "metadata": {},
   "outputs": [],
   "source": [
    "# Extract frames from the video\n",
    "frames = extract_frames(video_path)\n",
    "print(f'Extracted {len(frames)} frames from the video.')\n",
    "\n",
    "# Enhance the first frame for visualization\n",
    "enhanced_frame = enhance_frame(frames[0])\n",
    "\n",
    "# Display the original and enhanced frames\n",
    "fig, ax = plt.subplots(1, 2, figsize=(12, 6))\n",
    "ax[0].imshow(cv2.cvtColor(frames[0], cv2.COLOR_BGR2RGB))\n",
    "ax[0].set_title('Original Frame')\n",
    "ax[0].axis('off')\n",
    "\n",
    "ax[1].imshow(cv2.cvtColor(enhanced_frame, cv2.COLOR_BGR2RGB))\n",
    "ax[1].set_title('Enhanced Frame')\n",
    "ax[1].axis('off')\n",
    "\n",
    "plt.tight_layout()\n",
    "plt.show()"
   ]
  },
  {
   "cell_type": "markdown",
   "metadata": {},
   "source": [
    "## Pose Estimation\n",
    "\n",
    "Next, let's perform pose estimation on the extracted frames."
   ]
  },
  {
   "cell_type": "code",
   "execution_count": null,
   "metadata": {},
   "outputs": [],
   "source": [
    "# Initialize the pose estimator\n",
    "pose_estimator = MediaPipePoseEstimator()\n",
    "\n",
    "# Estimate poses for the first 10 frames\n",
    "poses = []\n",
    "for i, frame in enumerate(frames[:10]):\n",
    "    pose = pose_estimator.estimate_pose(frame)\n",
    "    poses.append(pose)\n",
    "    print(f'Processed frame {i+1}/10')\n",
    "\n",
    "# Visualize the pose on the first frame\n",
    "frame_with_pose = pose_estimator.visualize_pose(frames[0], poses[0])\n",
    "\n",
    "plt.figure(figsize=(8, 6))\n",
    "plt.imshow(cv2.cvtColor(frame_with_pose, cv2.COLOR_BGR2RGB))\n",
    "plt.title('Pose Estimation Result')\n",
    "plt.axis('off')\n",
    "plt.show()"
   ]
  },
  {
   "cell_type": "markdown",
   "metadata": {},
   "source": [
    "## Biomechanical Analysis\n",
    "\n",
    "Now, let's perform biomechanical analysis based on the detected poses. We'll analyze batting, bowling, and fielding mechanics."
   ]
  },
  {
   "cell_type": "code",
   "execution_count": null,
   "metadata": {},
   "outputs": [],
   "source": [
    "# Initialize analyzers\n",
    "batting_analyzer = BattingAnalyzer()\n",
    "bowling_analyzer = BowlingAnalyzer()\n",
    "fielding_analyzer = FieldingAnalyzer()\n",
    "\n",
    "# Determine the type of cricket activity in the video\n",
    "# For this demo, let's assume it's a batting video\n",
    "activity_type = 'batting'\n",
    "\n",
    "# Perform analysis based on the activity type\n",
    "if activity_type == 'batting':\n",
    "    # Analyze batting mechanics\n",
    "    stance_analysis = batting_analyzer.analyze_stance(poses)\n",
    "    trigger_movement = batting_analyzer.analyze_trigger_movement(poses)\n",
    "    bat_angle = batting_analyzer.analyze_bat_angle(poses)\n",
    "    timing_analysis = batting_analyzer.analyze_timing(poses)\n",
    "    shot_type = batting_analyzer.classify_shot(poses)\n",
    "    \n",
    "    # Print analysis results\n",
    "    print(f'Stance Analysis: {stance_analysis}')\n",
    "    print(f'Trigger Movement: {trigger_movement}')\n",
    "    print(f'Bat Angle: {bat_angle}')\n",
    "    print(f'Timing Analysis: {timing_analysis}')\n",
    "    print(f'Shot Type: {shot_type}')\n",
    "    \n",
    "elif activity_type == 'bowling':\n",
    "    # Analyze bowling mechanics\n",
    "    runup_analysis = bowling_analyzer.analyze_runup(poses)\n",
    "    loadup_analysis = bowling_analyzer.analyze_loadup(poses)\n",
    "    front_foot_landing = bowling_analyzer.analyze_front_foot_landing(poses)\n",
    "    release_dynamics = bowling_analyzer.analyze_release_dynamics(poses)\n",
    "    followthrough_analysis = bowling_analyzer.analyze_followthrough(poses)\n",
    "    \n",
    "    # Print analysis results\n",
    "    print(f'Run-up Analysis: {runup_analysis}')\n",
    "    print(f'Load-up Analysis: {loadup_analysis}')\n",
    "    print(f'Front Foot Landing: {front_foot_landing}')\n",
    "    print(f'Release Dynamics: {release_dynamics}')\n",
    "    print(f'Follow-through Analysis: {followthrough_analysis}')\n",
    "    \n",
    "elif activity_type == 'fielding':\n",
    "    # Analyze fielding mechanics\n",
    "    reaction_analysis = fielding_analyzer.analyze_reaction(poses)\n",
    "    dive_mechanics = fielding_analyzer.analyze_dive_mechanics(poses)\n",
    "    throwing_technique = fielding_analyzer.analyze_throwing_technique(poses)\n",
    "    recovery_analysis = fielding_analyzer.analyze_recovery(poses)\n",
    "    \n",
    "    # Print analysis results\n",
    "    print(f'Reaction Analysis: {reaction_analysis}')\n",
    "    print(f'Dive Mechanics: {dive_mechanics}')\n",
    "    print(f'Throwing Technique: {throwing_technique}')\n",
    "    print(f'Recovery Analysis: {recovery_analysis}')"
   ]
  },
  {
   "cell_type": "markdown",
   "metadata": {},
   "source": [
    "## 3D Visualization\n",
    "\n",
    "Finally, let's create 3D visualizations of the detected poses and analysis results."
   ]
  },
  {
   "cell_type": "code",
   "execution_count": null,
   "metadata": {},
   "outputs": [],
   "source": [
    "# Initialize the visualizer\n",
    "visualizer = Visualizer()\n",
    "\n",
    "# Visualize the pose sequence in 3D\n",
    "# For this demo, we'll use matplotlib mode for simplicity\n",
    "visualizer.visualize_pose_sequence(poses[:5], mode='matplotlib')\n",
    "\n",
    "# Create a comparison visualization (original vs. corrected pose)\n",
    "# For this demo, we'll use the same pose as both original and corrected\n",
    "original_pose = poses[0]\n",
    "corrected_pose = poses[0]  # In a real scenario, this would be a corrected pose\n",
    "\n",
    "visualizer.create_comparison_visualization(original_pose, corrected_pose, mode='matplotlib')"
   ]
  },
  {
   "cell_type": "markdown",
   "metadata": {},
   "source": [
    "## Generate Analysis Report\n",
    "\n",
    "Let's generate a comprehensive analysis report with insights and corrective feedback."
   ]
  },
  {
   "cell_type": "code",
   "execution_count": null,
   "metadata": {},
   "outputs": [],
   "source": [
    "# Generate a report based on the activity type\n",
    "if activity_type == 'batting':\n",
    "    report_html = visualizer.generate_report(\n",
    "        activity_type='batting',\n",
    "        frames=frames[:10],\n",
    "        poses=poses,\n",
    "        analysis_results={\n",
    "            'stance': stance_analysis,\n",
    "            'trigger_movement': trigger_movement,\n",
    "            'bat_angle': bat_angle,\n",
    "            'timing': timing_analysis,\n",
    "            'shot_type': shot_type\n",
    "        }\n",
    "    )\n",
    "elif activity_type == 'bowling':\n",
    "    report_html = visualizer.generate_report(\n",
    "        activity_type='bowling',\n",
    "        frames=frames[:10],\n",
    "        poses=poses,\n",
    "        analysis_results={\n",
    "            'runup': runup_analysis,\n",
    "            'loadup': loadup_analysis,\n",
    "            'front_foot_landing': front_foot_landing,\n",
    "            'release_dynamics': release_dynamics,\n",
    "            'followthrough': followthrough_analysis\n",
    "        }\n",
    "    )\n",
    "elif activity_type == 'fielding':\n",
    "    report_html = visualizer.generate_report(\n",
    "        activity_type='fielding',\n",
    "        frames=frames[:10],\n",
    "        poses=poses,\n",
    "        analysis_results={\n",
    "            'reaction': reaction_analysis,\n",
    "            'dive_mechanics': dive_mechanics,\n",
    "            'throwing_technique': throwing_technique,\n",
    "            'recovery': recovery_analysis\n",
    "        }\n",
    "    )\n",
    "\n",
    "# Display the report\n",
    "display(HTML(report_html))\n",
    "\n",
    "# Save the report to a file\n",
    "output_dir = '../results'\n",
    "os.makedirs(output_dir, exist_ok=True)\n",
    "report_path = os.path.join(output_dir, f'{activity_type}_analysis_report.html')\n",
    "\n",
    "with open(report_path, 'w') as f:\n",
    "    f.write(report_html)\n",
    "\n",
    "print(f'Report saved to {report_path}')"
   ]
  },
  {
   "cell_type": "markdown",
   "metadata": {},
   "source": [
    "## Conclusion\n",
    "\n",
    "In this notebook, we demonstrated the complete workflow of the cricket motion analysis system, including:\n",
    "\n",
    "1. Video preprocessing\n",
    "2. Pose estimation\n",
    "3. Biomechanical analysis\n",
    "4. 3D visualization\n",
    "5. Report generation\n",
    "\n",
    "This system can be used to analyze cricket player movements, provide insights, and suggest corrective feedback for improving batting, bowling, and fielding techniques."
   ]
  }
 ],
 "metadata": {
  "kernelspec": {
   "display_name": "Python 3",
   "language": "python",
   "name": "python3"
  },
  "language_info": {
   "codemirror_mode": {
    "name": "ipython",
    "version": 3
   },
   "file_extension": ".py",
   "mimetype": "text/x-python",
   "name": "python",
   "nbconvert_exporter": "python",
   "pygments_lexer": "ipython3",
   "version": "3.8.10"
  }
 }
}